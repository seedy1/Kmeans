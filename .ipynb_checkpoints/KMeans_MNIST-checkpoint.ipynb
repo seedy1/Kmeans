{
 "cells": [
  {
   "cell_type": "markdown",
   "metadata": {},
   "source": [
    "# KMeans Clustering On MNIST"
   ]
  },
  {
   "cell_type": "code",
   "execution_count": 48,
   "metadata": {},
   "outputs": [],
   "source": [
    "import sys\n",
    "import sklearn\n",
    "import matplotlib\n",
    "import numpy as np\n",
    "from keras.datasets import mnist\n",
    "from sklearn.cluster import MiniBatchKMeans, KMeans\n",
    "from sklearn import metrics\n",
    "\n",
    "import matplotlib.pyplot as plt\n",
    "%matplotlib inline"
   ]
  },
  {
   "cell_type": "code",
   "execution_count": 3,
   "metadata": {},
   "outputs": [
    {
     "name": "stdout",
     "output_type": "stream",
     "text": [
      "Downloading data from https://s3.amazonaws.com/img-datasets/mnist.npz\n",
      "11493376/11490434 [==============================] - 12s 1us/step\n",
      "Training Data: (60000, 28, 28)\n",
      "Training Labels: (60000,)\n"
     ]
    }
   ],
   "source": [
    "\n",
    "(x_train, y_train), (x_test, y_test) = mnist.load_data()\n",
    "\n",
    "print('Training Data: {}'.format(x_train.shape))\n",
    "print('Training Labels: {}'.format(y_train.shape))"
   ]
  },
  {
   "cell_type": "code",
   "execution_count": 4,
   "metadata": {},
   "outputs": [
    {
     "name": "stdout",
     "output_type": "stream",
     "text": [
      "Testing Data: (10000L, 28L, 28L)\n",
      "Testing Labels: (10000L,)\n"
     ]
    }
   ],
   "source": [
    "print('Testing Data: {}'.format(x_test.shape))\n",
    "print('Testing Labels: {}'.format(y_test.shape))"
   ]
  },
  {
   "cell_type": "code",
   "execution_count": 7,
   "metadata": {},
   "outputs": [
    {
     "data": {
      "text/plain": [
       "array([  0,   0,   0,   0,   0,   0,   0,   0,   0,   0,   0,   0,   0,\n",
       "         0,  48, 238, 252, 252, 252, 237,   0,   0,   0,   0,   0,   0,\n",
       "         0,   0], dtype=uint8)"
      ]
     },
     "execution_count": 7,
     "metadata": {},
     "output_type": "execute_result"
    }
   ],
   "source": [
    "x_train[1][5]"
   ]
  },
  {
   "cell_type": "code",
   "execution_count": null,
   "metadata": {},
   "outputs": [],
   "source": []
  },
  {
   "cell_type": "markdown",
   "metadata": {},
   "source": [
    "### 2. Preprocessing the MNIST images\n",
    "\n",
    "Images stored as NumPy arrays are 2-dimensional arrays.  However, the K-means clustering algorithm provided by scikit-learn ingests 1-dimensional arrays; as a result, we will need to reshape each image.  \n",
    "\n",
    "Clustering algorithms almost always use 1-dimensional data.  For example, if you were clustering a set of X, Y coordinates, each point would be passed to the clustering algorithm as a 1-dimensional array with a length of two (example: [2,4] or [-1, 4]). If you were using 3-dimensional data, the array would have a length of 3 (example: [2, 4, 1] or [-1, 4, 5]).  \n",
    "\n",
    "MNIST contains images that are 28 by 28 pixels; as a result, they will have a length of 784 once we reshape them into a 1-dimensional array.  "
   ]
  },
  {
   "cell_type": "code",
   "execution_count": 16,
   "metadata": {},
   "outputs": [],
   "source": [
    "\n",
    "# convert each image to 1 dimensional array\n",
    "x_train = x_train.reshape(len(x_train),-1)\n",
    "y_train = y_train\n",
    "\n",
    "# normalize the data to 0 - 1\n",
    "x_train = x_train / 255.0\n"
   ]
  },
  {
   "cell_type": "code",
   "execution_count": 17,
   "metadata": {},
   "outputs": [
    {
     "data": {
      "text/plain": [
       "(60000, 784)"
      ]
     },
     "execution_count": 17,
     "metadata": {},
     "output_type": "execute_result"
    }
   ],
   "source": [
    "x_train.shape"
   ]
  },
  {
   "cell_type": "code",
   "execution_count": 18,
   "metadata": {},
   "outputs": [
    {
     "data": {
      "text/plain": [
       "(784,)"
      ]
     },
     "execution_count": 18,
     "metadata": {},
     "output_type": "execute_result"
    }
   ],
   "source": [
    "x_train[1].shape"
   ]
  },
  {
   "cell_type": "markdown",
   "metadata": {},
   "source": [
    "# KMeans\n"
   ]
  },
  {
   "cell_type": "code",
   "execution_count": 24,
   "metadata": {},
   "outputs": [
    {
     "data": {
      "text/plain": [
       "MiniBatchKMeans(batch_size=100, compute_labels=True, init='k-means++',\n",
       "                init_size=None, max_iter=100, max_no_improvement=10,\n",
       "                n_clusters=10, n_init=3, random_state=None,\n",
       "                reassignment_ratio=0.01, tol=0.0, verbose=0)"
      ]
     },
     "execution_count": 24,
     "metadata": {},
     "output_type": "execute_result"
    }
   ],
   "source": [
    "\n",
    "classes = 10 #0,1,2,3,4,5,6,7,8,9\n",
    "\n",
    "# Initialize KMeans model\n",
    "kmeans = MiniBatchKMeans(n_clusters = classes)\n",
    "\n",
    "# use if your PC can handle it\n",
    "# kmeans = MiniBatchKMeans(n_clusters = classes)\n",
    "\n",
    "# Fit the model to the training data\n",
    "kmeans.fit(x_train)"
   ]
  },
  {
   "cell_type": "code",
   "execution_count": 29,
   "metadata": {},
   "outputs": [
    {
     "data": {
      "text/plain": [
       "array([8, 7, 2, ..., 8, 6, 9], dtype=int32)"
      ]
     },
     "execution_count": 29,
     "metadata": {},
     "output_type": "execute_result"
    }
   ],
   "source": [
    "kmeans.labels_"
   ]
  },
  {
   "cell_type": "code",
   "execution_count": 32,
   "metadata": {},
   "outputs": [
    {
     "data": {
      "text/plain": [
       "10"
      ]
     },
     "execution_count": 32,
     "metadata": {},
     "output_type": "execute_result"
    }
   ],
   "source": [
    "kmeans.n_clusters"
   ]
  },
  {
   "cell_type": "markdown",
   "metadata": {},
   "source": [
    "# Assigning\n",
    " "
   ]
  },
  {
   "cell_type": "code",
   "execution_count": 52,
   "metadata": {},
   "outputs": [],
   "source": [
    "def infer_cluster_labels(kmeans, actual_labels):\n",
    "\n",
    "    inferred_labels = {}\n",
    "\n",
    "    for i in range(kmeans.n_clusters):\n",
    "\n",
    "        #index of cluster points\n",
    "        labels = []\n",
    "        index = np.where(kmeans.labels_ == i)\n",
    "\n",
    "        # append actual labels for each point in cluster\n",
    "        labels.append(actual_labels[index])\n",
    "\n",
    "        # get most common label\n",
    "        if len(labels[0]) == 1:\n",
    "            counts = np.bincount(labels[0]) \n",
    "        else:\n",
    "            counts = np.bincount(np.squeeze(labels))\n",
    "# BINCOUNT Count number of occurrences of each value in array of non-negative ints.\n",
    "\n",
    "\n",
    "        # assign the cluster to a value in the inferred_labels dictionary\n",
    "        if np.argmax(counts) in inferred_labels:\n",
    "            inferred_labels[np.argmax(counts)].append(i)\n",
    "        else:\n",
    "            # create a new array in this slot\n",
    "            inferred_labels[np.argmax(counts)] = [i]\n",
    "\n",
    "#         print(labels)\n",
    "#         print('Cluster: {}, label: {}'.format(i, np.argmax(counts)))\n",
    "        \n",
    "    return inferred_labels  \n",
    "\n"
   ]
  },
  {
   "cell_type": "code",
   "execution_count": 35,
   "metadata": {},
   "outputs": [],
   "source": [
    "def infer_data_labels(x_labels, cluster_labels):\n",
    "    \n",
    "    predicted_labels = np.zeros(len(x_labels)).astype(np.uint8)\n",
    "    \n",
    "    for i, cluster in enumerate(x_labels):\n",
    "        for key, value in cluster_labels.items():\n",
    "            if cluster in value:\n",
    "                predicted_labels[i] = key\n",
    "                \n",
    "    return predicted_labels"
   ]
  },
  {
   "cell_type": "code",
   "execution_count": 38,
   "metadata": {},
   "outputs": [
    {
     "name": "stdout",
     "output_type": "stream",
     "text": [
      "[array([3, 2, 3, ..., 3, 5, 5], dtype=uint8)]\n",
      "Cluster: 0, label: 3\n",
      "[array([1, 1, 1, ..., 1, 5, 1], dtype=uint8)]\n",
      "Cluster: 1, label: 1\n",
      "[array([4, 4, 7, ..., 9, 9, 4], dtype=uint8)]\n",
      "Cluster: 2, label: 4\n",
      "[array([2, 2, 2, ..., 2, 2, 2], dtype=uint8)]\n",
      "Cluster: 3, label: 2\n",
      "[array([9, 4, 7, ..., 7, 9, 9], dtype=uint8)]\n",
      "Cluster: 4, label: 7\n",
      "[array([0, 0, 0, ..., 0, 0, 0], dtype=uint8)]\n",
      "Cluster: 5, label: 0\n",
      "[array([6, 6, 6, ..., 6, 6, 6], dtype=uint8)]\n",
      "Cluster: 6, label: 6\n",
      "[array([0, 0, 0, ..., 3, 0, 0], dtype=uint8)]\n",
      "Cluster: 7, label: 0\n",
      "[array([5, 3, 3, ..., 3, 3, 5], dtype=uint8)]\n",
      "Cluster: 8, label: 3\n",
      "[array([3, 8, 8, ..., 8, 8, 8], dtype=uint8)]\n",
      "Cluster: 9, label: 8\n"
     ]
    }
   ],
   "source": [
    "# test the infer_cluster_labels() and infer_data_labels() functions\n",
    "cluster_labels = infer_cluster_labels(kmeans, y_train)\n",
    "k_clusters = kmeans.predict(x_train)\n",
    "predicted_labels = infer_data_labels(k_clusters, cluster_labels)\n"
   ]
  },
  {
   "cell_type": "code",
   "execution_count": 44,
   "metadata": {},
   "outputs": [
    {
     "data": {
      "text/plain": [
       "array([3, 0, 4, 1, 7, 2, 1, 8, 1, 7], dtype=uint8)"
      ]
     },
     "execution_count": 44,
     "metadata": {},
     "output_type": "execute_result"
    }
   ],
   "source": [
    "predicted_labels[:10]"
   ]
  },
  {
   "cell_type": "code",
   "execution_count": 45,
   "metadata": {},
   "outputs": [
    {
     "data": {
      "text/plain": [
       "array([5, 0, 4, 1, 9, 2, 1, 3, 1, 4], dtype=uint8)"
      ]
     },
     "execution_count": 45,
     "metadata": {},
     "output_type": "execute_result"
    }
   ],
   "source": [
    "y_train[:10]"
   ]
  },
  {
   "cell_type": "markdown",
   "metadata": {},
   "source": [
    "## Good enough on top"
   ]
  },
  {
   "cell_type": "markdown",
   "metadata": {},
   "source": [
    "## Make the clustering more generic"
   ]
  },
  {
   "cell_type": "code",
   "execution_count": 54,
   "metadata": {},
   "outputs": [],
   "source": [
    "\n",
    "def calculate_metrics(estimator, data, labels):\n",
    "\n",
    "    # Calculate and print metrics\n",
    "    print('Number of Clusters: {}'.format(estimator.n_clusters))"
   ]
  },
  {
   "cell_type": "code",
   "execution_count": 56,
   "metadata": {},
   "outputs": [
    {
     "name": "stdout",
     "output_type": "stream",
     "text": [
      "Number of Clusters: 2\n",
      "Accuracy:  0.20516666666666666\n",
      "\n",
      "\n",
      "Number of Clusters: 5\n",
      "Accuracy:  0.3884166666666667\n",
      "\n",
      "\n",
      "Number of Clusters: 8\n",
      "Accuracy:  0.53015\n",
      "\n",
      "\n",
      "Number of Clusters: 10\n",
      "Accuracy:  0.50555\n",
      "\n",
      "\n",
      "Number of Clusters: 12\n",
      "Accuracy:  0.6029333333333333\n",
      "\n",
      "\n",
      "Number of Clusters: 16\n",
      "Accuracy:  0.6398666666666667\n",
      "\n",
      "\n",
      "Number of Clusters: 20\n",
      "Accuracy:  0.6792166666666667\n",
      "\n",
      "\n",
      "Number of Clusters: 22\n",
      "Accuracy:  0.7006666666666667\n",
      "\n",
      "\n",
      "Number of Clusters: 25\n",
      "Accuracy:  0.7121666666666666\n",
      "\n",
      "\n"
     ]
    }
   ],
   "source": [
    "classes = [2, 5, 8, 10, 12, 16, 20, 22, 25]\n",
    "\n",
    "# test different numbers of clusters\n",
    "for clusters in classes:\n",
    "    generic_kmeans = MiniBatchKMeans(n_clusters = clusters)\n",
    "    generic_kmeans.fit(x_train)\n",
    "    \n",
    "    # print cluster metrics\n",
    "    calculate_metrics(generic_kmeans, x_train, y_train)\n",
    "    \n",
    "    # determine predicted labels\n",
    "    cluster_labels = infer_cluster_labels(generic_kmeans, y_train)\n",
    "    predicted_Y = infer_data_labels(generic_kmeans.labels_, cluster_labels)\n",
    "    \n",
    "    # calculate and print accuracy\n",
    "    print('Accuracy: ', metrics.accuracy_score(y_train, predicted_Y))\n",
    "    print('\\n')"
   ]
  },
  {
   "cell_type": "markdown",
   "metadata": {},
   "source": [
    "## more clusters more accuracy hmmmm.... why???"
   ]
  },
  {
   "cell_type": "code",
   "execution_count": 64,
   "metadata": {},
   "outputs": [
    {
     "name": "stdout",
     "output_type": "stream",
     "text": [
      "Accuracy:  0.1135\n"
     ]
    }
   ],
   "source": [
    "# test kmeans algorithm on testing dataset\n",
    "\n",
    "x_test = x_test.reshape(len(x_test),-1)\n",
    "x_test = x_test / 255.0\n",
    "\n",
    "# initialize and fit KMeans algorithm on training data\n",
    "kmeans = MiniBatchKMeans(n_clusters = 10)\n",
    "kmeans.fit(x_train)\n",
    "cluster_labels = infer_cluster_labels(kmeans, y_train)\n",
    "\n",
    "# predictions\n",
    "test_clusters = kmeans.predict(x_test)\n",
    "predicted_labels = infer_data_labels(kmeans.predict(x_test), cluster_labels)\n",
    "    \n",
    "# calculate and print accuracy\n",
    "print('Accuracy: ', metrics.accuracy_score(y_test, predicted_labels))"
   ]
  },
  {
   "cell_type": "code",
   "execution_count": null,
   "metadata": {},
   "outputs": [],
   "source": []
  },
  {
   "cell_type": "code",
   "execution_count": null,
   "metadata": {},
   "outputs": [],
   "source": []
  },
  {
   "cell_type": "code",
   "execution_count": null,
   "metadata": {},
   "outputs": [],
   "source": []
  }
 ],
 "metadata": {
  "kernelspec": {
   "display_name": "Python 3",
   "language": "python",
   "name": "python3"
  },
  "language_info": {
   "codemirror_mode": {
    "name": "ipython",
    "version": 3
   },
   "file_extension": ".py",
   "mimetype": "text/x-python",
   "name": "python",
   "nbconvert_exporter": "python",
   "pygments_lexer": "ipython3",
   "version": "3.7.5"
  }
 },
 "nbformat": 4,
 "nbformat_minor": 4
}
